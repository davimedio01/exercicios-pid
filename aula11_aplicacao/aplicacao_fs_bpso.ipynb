{
  "cells": [
    {
      "cell_type": "markdown",
      "metadata": {
        "id": "8j1v8pFWdqPg"
      },
      "source": [
        "# Aplicação: Seleção de Atributos em Imagens Digitais via Meta-heurística\n"
      ]
    },
    {
      "cell_type": "markdown",
      "source": [
        "Elaborado por: **Davi Augusto Neves Leite**, **Giovani Candido** e **Luis Henrique Morelli**."
      ],
      "metadata": {
        "id": "-sMl9IjJXyrR"
      }
    },
    {
      "cell_type": "markdown",
      "source": [
        "Este notebook apresenta um exemplo de aplicação de meta-heurística para a seleção de características de imagens visando a classificação de padrões. Para tal, selecionou-se a base **Fashion-MNIST**. Em seguida, realizou-se um pré-processamento para separar as classes de interesse e obter as características das imagens. Tais características foram extraídas por meio de **descritores de textura de Haralick**. Além disso, os **pixels das imagens** foram unidos às características para gerar vetores de atributos de maior dimensão. Em relação aos algoritmos, optou-se pelo modelo **Classificador KNN**, que foi avaliado em dois cenários: sem e com seleção de atributos. Para a seleção, selecionou-se a meta-heurística de otimização **Binary PSO (BPSO)** e seguiu-se o método de seleção **wrapper**, baseado na avaliação do desempenho do modelo.\n",
        "\n",
        "</br></br>"
      ],
      "metadata": {
        "id": "3GV5oTlQUzQA"
      }
    },
    {
      "cell_type": "markdown",
      "metadata": {
        "id": "cEL4AGYEdqPk"
      },
      "source": [
        "---\n",
        "</br></br>\n",
        "\n",
        "## Instalação do Módulo de Meta-Heurísticas\n"
      ]
    },
    {
      "cell_type": "markdown",
      "metadata": {
        "id": "URAPdhJndqPl"
      },
      "source": [
        "O ambiente do **Google Colab** possui inúmeros módulos já instalados por padrão. No entanto, um dos módulos utilizados não está incluso nessa lista padrão, que é o caso do **Opytimizer**. Trata-se de uma biblioteca que contém a implementação de várias meta-heurísticas.\n"
      ]
    },
    {
      "cell_type": "markdown",
      "source": [
        "O comando abaixo realiza a instalação dessa biblioteca."
      ],
      "metadata": {
        "id": "QmgjUkhEZZyY"
      }
    },
    {
      "cell_type": "code",
      "execution_count": null,
      "metadata": {
        "colab": {
          "base_uri": "https://localhost:8080/"
        },
        "id": "yqLYtOL2dqPm",
        "outputId": "1ca59adc-b812-447a-9d14-7aed6ad7f5e4"
      },
      "outputs": [
        {
          "output_type": "stream",
          "name": "stdout",
          "text": [
            "Looking in indexes: https://pypi.org/simple, https://us-python.pkg.dev/colab-wheels/public/simple/\n",
            "Requirement already satisfied: opytimizer in /usr/local/lib/python3.10/dist-packages (3.1.2)\n",
            "Requirement already satisfied: coverage>=5.5 in /usr/local/lib/python3.10/dist-packages (from opytimizer) (7.2.7)\n",
            "Requirement already satisfied: dill>=0.3.4 in /usr/local/lib/python3.10/dist-packages (from opytimizer) (0.3.6)\n",
            "Requirement already satisfied: matplotlib>=3.3.4 in /usr/local/lib/python3.10/dist-packages (from opytimizer) (3.7.1)\n",
            "Requirement already satisfied: networkx>=2.5.1 in /usr/local/lib/python3.10/dist-packages (from opytimizer) (3.1)\n",
            "Requirement already satisfied: numpy>=1.19.5 in /usr/local/lib/python3.10/dist-packages (from opytimizer) (1.22.4)\n",
            "Requirement already satisfied: opytimark>=1.0.7 in /usr/local/lib/python3.10/dist-packages (from opytimizer) (1.0.8)\n",
            "Requirement already satisfied: pre-commit>=2.17.0 in /usr/local/lib/python3.10/dist-packages (from opytimizer) (3.3.2)\n",
            "Requirement already satisfied: pylint>=2.7.2 in /usr/local/lib/python3.10/dist-packages (from opytimizer) (2.17.4)\n",
            "Requirement already satisfied: pytest>=6.2.2 in /usr/local/lib/python3.10/dist-packages (from opytimizer) (7.2.2)\n",
            "Requirement already satisfied: tqdm>=4.49.0 in /usr/local/lib/python3.10/dist-packages (from opytimizer) (4.65.0)\n",
            "Requirement already satisfied: contourpy>=1.0.1 in /usr/local/lib/python3.10/dist-packages (from matplotlib>=3.3.4->opytimizer) (1.0.7)\n",
            "Requirement already satisfied: cycler>=0.10 in /usr/local/lib/python3.10/dist-packages (from matplotlib>=3.3.4->opytimizer) (0.11.0)\n",
            "Requirement already satisfied: fonttools>=4.22.0 in /usr/local/lib/python3.10/dist-packages (from matplotlib>=3.3.4->opytimizer) (4.39.3)\n",
            "Requirement already satisfied: kiwisolver>=1.0.1 in /usr/local/lib/python3.10/dist-packages (from matplotlib>=3.3.4->opytimizer) (1.4.4)\n",
            "Requirement already satisfied: packaging>=20.0 in /usr/local/lib/python3.10/dist-packages (from matplotlib>=3.3.4->opytimizer) (23.1)\n",
            "Requirement already satisfied: pillow>=6.2.0 in /usr/local/lib/python3.10/dist-packages (from matplotlib>=3.3.4->opytimizer) (8.4.0)\n",
            "Requirement already satisfied: pyparsing>=2.3.1 in /usr/local/lib/python3.10/dist-packages (from matplotlib>=3.3.4->opytimizer) (3.0.9)\n",
            "Requirement already satisfied: python-dateutil>=2.7 in /usr/local/lib/python3.10/dist-packages (from matplotlib>=3.3.4->opytimizer) (2.8.2)\n",
            "Requirement already satisfied: cfgv>=2.0.0 in /usr/local/lib/python3.10/dist-packages (from pre-commit>=2.17.0->opytimizer) (3.3.1)\n",
            "Requirement already satisfied: identify>=1.0.0 in /usr/local/lib/python3.10/dist-packages (from pre-commit>=2.17.0->opytimizer) (2.5.24)\n",
            "Requirement already satisfied: nodeenv>=0.11.1 in /usr/local/lib/python3.10/dist-packages (from pre-commit>=2.17.0->opytimizer) (1.8.0)\n",
            "Requirement already satisfied: pyyaml>=5.1 in /usr/local/lib/python3.10/dist-packages (from pre-commit>=2.17.0->opytimizer) (6.0)\n",
            "Requirement already satisfied: virtualenv>=20.10.0 in /usr/local/lib/python3.10/dist-packages (from pre-commit>=2.17.0->opytimizer) (20.23.0)\n",
            "Requirement already satisfied: platformdirs>=2.2.0 in /usr/local/lib/python3.10/dist-packages (from pylint>=2.7.2->opytimizer) (3.3.0)\n",
            "Requirement already satisfied: astroid<=2.17.0-dev0,>=2.15.4 in /usr/local/lib/python3.10/dist-packages (from pylint>=2.7.2->opytimizer) (2.15.5)\n",
            "Requirement already satisfied: isort<6,>=4.2.5 in /usr/local/lib/python3.10/dist-packages (from pylint>=2.7.2->opytimizer) (5.12.0)\n",
            "Requirement already satisfied: mccabe<0.8,>=0.6 in /usr/local/lib/python3.10/dist-packages (from pylint>=2.7.2->opytimizer) (0.7.0)\n",
            "Requirement already satisfied: tomlkit>=0.10.1 in /usr/local/lib/python3.10/dist-packages (from pylint>=2.7.2->opytimizer) (0.11.8)\n",
            "Requirement already satisfied: tomli>=1.1.0 in /usr/local/lib/python3.10/dist-packages (from pylint>=2.7.2->opytimizer) (2.0.1)\n",
            "Requirement already satisfied: attrs>=19.2.0 in /usr/local/lib/python3.10/dist-packages (from pytest>=6.2.2->opytimizer) (23.1.0)\n",
            "Requirement already satisfied: iniconfig in /usr/local/lib/python3.10/dist-packages (from pytest>=6.2.2->opytimizer) (2.0.0)\n",
            "Requirement already satisfied: pluggy<2.0,>=0.12 in /usr/local/lib/python3.10/dist-packages (from pytest>=6.2.2->opytimizer) (1.0.0)\n",
            "Requirement already satisfied: exceptiongroup>=1.0.0rc8 in /usr/local/lib/python3.10/dist-packages (from pytest>=6.2.2->opytimizer) (1.1.1)\n",
            "Requirement already satisfied: lazy-object-proxy>=1.4.0 in /usr/local/lib/python3.10/dist-packages (from astroid<=2.17.0-dev0,>=2.15.4->pylint>=2.7.2->opytimizer) (1.9.0)\n",
            "Requirement already satisfied: wrapt<2,>=1.11 in /usr/local/lib/python3.10/dist-packages (from astroid<=2.17.0-dev0,>=2.15.4->pylint>=2.7.2->opytimizer) (1.14.1)\n",
            "Requirement already satisfied: typing-extensions>=4.0.0 in /usr/local/lib/python3.10/dist-packages (from astroid<=2.17.0-dev0,>=2.15.4->pylint>=2.7.2->opytimizer) (4.5.0)\n",
            "Requirement already satisfied: setuptools in /usr/local/lib/python3.10/dist-packages (from nodeenv>=0.11.1->pre-commit>=2.17.0->opytimizer) (67.7.2)\n",
            "Requirement already satisfied: six>=1.5 in /usr/local/lib/python3.10/dist-packages (from python-dateutil>=2.7->matplotlib>=3.3.4->opytimizer) (1.16.0)\n",
            "Requirement already satisfied: distlib<1,>=0.3.6 in /usr/local/lib/python3.10/dist-packages (from virtualenv>=20.10.0->pre-commit>=2.17.0->opytimizer) (0.3.6)\n",
            "Requirement already satisfied: filelock<4,>=3.11 in /usr/local/lib/python3.10/dist-packages (from virtualenv>=20.10.0->pre-commit>=2.17.0->opytimizer) (3.12.0)\n"
          ]
        }
      ],
      "source": [
        "%pip install opytimizer"
      ]
    },
    {
      "cell_type": "markdown",
      "source": [
        "</br></br>"
      ],
      "metadata": {
        "id": "vI40qS6J25-l"
      }
    },
    {
      "cell_type": "markdown",
      "metadata": {
        "id": "fleHwhaWdqPo"
      },
      "source": [
        "---\n",
        "</br></br>\n",
        "\n",
        "## Importação da Base Fashion-MNIST\n"
      ]
    },
    {
      "cell_type": "markdown",
      "source": [
        "Com o Opytimizer já instalado, passa-se a trabalhar com a base de dados **Fashion-MNIST**. Esse conjunto contém **70.000 imagens** com **256 níveis de cinza** e dimensão **28x28 (784 pixels)**. Desse total, existem **7.000 imagens** para cada uma das **10 classes de roupas**."
      ],
      "metadata": {
        "id": "Cwy7zyeYZfIa"
      }
    },
    {
      "cell_type": "markdown",
      "source": [
        "Para importar as imagens, utiliza-se o módulo **scikit-learn**, capaz de carregar diversas bases de dados através do portal **OpenML**."
      ],
      "metadata": {
        "id": "IFbv0F10cmho"
      }
    },
    {
      "cell_type": "code",
      "execution_count": null,
      "metadata": {
        "id": "64ldxxp1dqPp"
      },
      "outputs": [],
      "source": [
        "from sklearn.datasets import fetch_openml"
      ]
    },
    {
      "cell_type": "markdown",
      "source": [
        "Em seguida, carrega-se as imagens e suas respectivas classes."
      ],
      "metadata": {
        "id": "6SB6dMsDdAwV"
      }
    },
    {
      "cell_type": "code",
      "execution_count": null,
      "metadata": {
        "id": "wIc6SowudqPq"
      },
      "outputs": [],
      "source": [
        "# Carrega as imagens e seus rótulos\n",
        "images, targets = fetch_openml('Fashion-MNIST', return_X_y=True, as_frame=True, parser='auto')"
      ]
    },
    {
      "cell_type": "markdown",
      "source": [
        "Por fim, converte-se as imagens e as classes para arrays."
      ],
      "metadata": {
        "id": "hqkaC_VIdBvP"
      }
    },
    {
      "cell_type": "code",
      "execution_count": null,
      "metadata": {
        "id": "ORXVgD20dqPr"
      },
      "outputs": [],
      "source": [
        "# Converte os itens para array\n",
        "images = images.to_numpy()\n",
        "targets = targets.to_numpy().astype(int)"
      ]
    },
    {
      "cell_type": "markdown",
      "source": [
        "</br></br>"
      ],
      "metadata": {
        "id": "kysjl-7d56dc"
      }
    },
    {
      "cell_type": "markdown",
      "metadata": {
        "id": "U3HKEWEydqPs"
      },
      "source": [
        "---\n",
        "</br></br>\n",
        "\n",
        "## Pré-processamento dos Dados\n"
      ]
    },
    {
      "cell_type": "markdown",
      "source": [
        "Com as imagens carregadas, inicia-se a fase de pré-processamento."
      ],
      "metadata": {
        "id": "0ZfY1MaydJn5"
      }
    },
    {
      "cell_type": "markdown",
      "source": [
        "#### Separação das Classes de Interesse"
      ],
      "metadata": {
        "id": "SZwiWuR8ep_N"
      }
    },
    {
      "cell_type": "markdown",
      "source": [
        "O comando abaixo importa o módulo **NumPy** para a manipulação de arrays."
      ],
      "metadata": {
        "id": "bf1KoGTodnTB"
      }
    },
    {
      "cell_type": "code",
      "source": [
        "import numpy as np"
      ],
      "metadata": {
        "id": "AtQJfD8hcM_5"
      },
      "execution_count": null,
      "outputs": []
    },
    {
      "cell_type": "markdown",
      "source": [
        "Separa-se as classes **0 (camiseta)**, **4 (casaco)** e **6 (camisa)** para constituir um problema de classificação com três padrões."
      ],
      "metadata": {
        "id": "kGZuimlpd2gW"
      }
    },
    {
      "cell_type": "code",
      "execution_count": null,
      "metadata": {
        "id": "C62GhqCVdqPt"
      },
      "outputs": [],
      "source": [
        "# Define as classes de interesse e\n",
        "# atribui os novos rótulos a elas\n",
        "labels_map = {0: 0, 4: 1, 6: 2}\n",
        "\n",
        "selected_images = []\n",
        "selected_targets = []\n",
        "\n",
        "# Percorre as imagens\n",
        "for idx, label in enumerate(targets):\n",
        "    \n",
        "    # Se o rótulo da imaten atual estiver \n",
        "    # dentre as classes de interesse\n",
        "    if label in labels_map.keys():\n",
        "        # Salva a imagem\n",
        "        selected_images.append(images[idx])\n",
        "\n",
        "        # Salva seu novo rótulo\n",
        "        selected_targets.append(labels_map[targets[idx]])\n",
        "\n",
        "# Converte para array\n",
        "selected_images = np.array(selected_images)\n",
        "selected_targets = np.array(selected_targets)"
      ]
    },
    {
      "cell_type": "markdown",
      "source": [
        "Cria-se um dicionário com os rótulos das classes."
      ],
      "metadata": {
        "id": "_KAg1VIPedk4"
      }
    },
    {
      "cell_type": "code",
      "execution_count": null,
      "metadata": {
        "id": "b9qKTpsgdqPv"
      },
      "outputs": [],
      "source": [
        "labels_descr = {0: 'camiseta', 1: 'casaco', 2: 'camisa'}"
      ]
    },
    {
      "cell_type": "markdown",
      "metadata": {
        "id": "Xh5DuzGfdqPv"
      },
      "source": [
        "#### Exibição das Classes"
      ]
    },
    {
      "cell_type": "markdown",
      "source": [
        "Para ilustrar as imagens das classes separadas, esta seção realiza apresenta uma amostra de cada classe."
      ],
      "metadata": {
        "id": "7fmt2sZ0fSJD"
      }
    },
    {
      "cell_type": "markdown",
      "source": [
        "De início, importa-se o **matplotlib** para a exibição das imagens."
      ],
      "metadata": {
        "id": "0rCilCJAf4rP"
      }
    },
    {
      "cell_type": "code",
      "execution_count": null,
      "metadata": {
        "id": "ZaH9bpBGdqPw"
      },
      "outputs": [],
      "source": [
        "import matplotlib.pyplot as plt"
      ]
    },
    {
      "cell_type": "markdown",
      "source": [
        "Cria-se uma figura com uma imagem de cada classe."
      ],
      "metadata": {
        "id": "Tc_caJE3gmqr"
      }
    },
    {
      "cell_type": "code",
      "execution_count": null,
      "metadata": {
        "colab": {
          "base_uri": "https://localhost:8080/"
        },
        "id": "I1238k-AdqPw",
        "outputId": "e54d0006-b81b-4eb5-c834-0072bc41f990"
      },
      "outputs": [
        {
          "output_type": "display_data",
          "data": {
            "text/plain": [
              "<Figure size 1000x800 with 3 Axes>"
            ],
            "image/png": "[encoded data removed]"
          },
          "metadata": {}
        }
      ],
      "source": [
        "plt.figure(figsize=(10, 8))\n",
        "\n",
        "n_rows = 1\n",
        "n_cols = 5\n",
        "\n",
        "# Exibe uma amostra de cada classe\n",
        "for label, image_idx in enumerate(labels_descr.keys()):\n",
        "    plt.subplot(n_rows, n_cols, label + 1)\n",
        "    plt.title(f'Classe \"{labels_descr[label]}\"')\n",
        "    plt.imshow(selected_images[image_idx].reshape(28, 28), cmap='gray')\n",
        "    plt.axis('off')\n",
        "\n",
        "plt.show()"
      ]
    },
    {
      "cell_type": "markdown",
      "metadata": {
        "id": "jcSKo96zwpmE"
      },
      "source": [
        "#### Extração de Características"
      ]
    },
    {
      "cell_type": "markdown",
      "source": [
        "Agora, entra-se na fase de extração de características."
      ],
      "metadata": {
        "id": "pd53gDIvgv44"
      }
    },
    {
      "cell_type": "markdown",
      "source": [
        "Define-se uma função que retorna o vetor de características de uma imagem, composto por descritores de Haralick e pixels da imagem."
      ],
      "metadata": {
        "id": "YyPsHSLJhODX"
      }
    },
    {
      "cell_type": "code",
      "execution_count": null,
      "metadata": {
        "id": "2UeddxX9pdYm"
      },
      "outputs": [],
      "source": [
        "from skimage.feature import graycomatrix, graycoprops\n",
        "\n",
        "from tqdm.notebook import tqdm\n",
        "\n",
        "def extract_features(image, distances, angles, props):\n",
        "    reshaped_img = image.reshape(28, 28).astype(np.uint8)\n",
        "\n",
        "    glcm = graycomatrix(reshaped_img, distances, angles)\n",
        "    \n",
        "    haralick_descriptors = []\n",
        "\n",
        "    for p in props:\n",
        "        haralick_descriptors.append(graycoprops(glcm, p))\n",
        "    \n",
        "    # Converte os descritores para um array 1d\n",
        "    haralick_descriptors = np.array(haralick_descriptors).flatten()\n",
        "\n",
        "    # Adiciona os pixels da imagem como atributos,\n",
        "    # juntamente com os descritores de Haralick\n",
        "    features = np.hstack((image, haralick_descriptors))\n",
        "\n",
        "    return features"
      ]
    },
    {
      "cell_type": "markdown",
      "source": [
        "Executa-se a extração de características das imagens. Para o cálculo da matriz de co-ocorrência, foi considerada uma **distância de 5 pixels**, com uma análise dos ângulos **0, 45, 90 e 135** graus. Em relação aos descritores, foram consideradas seis propriedades de textura: **contraste**, **dissimilaridade**, **homogeneidade**, **energia**, **correlação** e **Segundo Momento Angular (ASM)**. "
      ],
      "metadata": {
        "id": "Wxhl5a84hrA2"
      }
    },
    {
      "cell_type": "code",
      "execution_count": null,
      "metadata": {
        "colab": {
          "base_uri": "https://localhost:8080/",
          "height": 49,
          "referenced_widgets": [
            "3dddfd9f44414f078e224bb8ddbafe90",
            "fdaba71aaa804e3192a6d695793a4576",
            "6631a9ae81d84a99a08d7f7df3c76dc4",
            "6913a34a2c0241a6b02129572a44f3cd",
            "10390de93429433894bfa2f73173671c",
            "ae7f25b1f26042e29eb9fec2b6c0a25c",
            "5a11efc48dd249ef8264e0ee781fc3ee",
            "99083073e824497fba55ca43d1ef40f0",
            "e24042d60b404a7c896130acd349c41a",
            "719f9dd19d2a4f7294c67269eb2bb0c7",
            "4e816bd94503493eb525276889f369d2"
          ]
        },
        "id": "vd7V1KCLyeBh",
        "outputId": "389cb686-1d1f-42c5-bd73-d1ab6b81bfaa"
      },
      "outputs": [
        {
          "output_type": "display_data",
          "data": {
            "text/plain": [
              "  0%|          | 0/21000 [00:00<?, ?it/s]"
            ],
            "application/vnd.jupyter.widget-view+json": {
              "version_major": 2,
              "version_minor": 0,
              "model_id": "3dddfd9f44414f078e224bb8ddbafe90"
            }
          },
          "metadata": {}
        }
      ],
      "source": [
        "distances = [5]\n",
        "angles = [0, np.pi/4, np.pi/2, 3*np.pi/4]\n",
        "\n",
        "props = [\n",
        "    'contrast', \n",
        "    'dissimilarity', \n",
        "    'homogeneity', \n",
        "    'energy', \n",
        "    'correlation', \n",
        "    'ASM']\n",
        "\n",
        "features = []\n",
        "\n",
        "for image in tqdm(selected_images):\n",
        "    features.append(extract_features(image, distances, angles, props))"
      ]
    },
    {
      "cell_type": "markdown",
      "source": [
        "Exibe-se o total de atributos obtidos para cada imagem."
      ],
      "metadata": {
        "id": "6hbexcomp1fw"
      }
    },
    {
      "cell_type": "code",
      "source": [
        "features[0].size"
      ],
      "metadata": {
        "colab": {
          "base_uri": "https://localhost:8080/"
        },
        "id": "kA4Ux7afp8Ep",
        "outputId": "13731297-3b6e-4fb5-ceed-497677c351df"
      },
      "execution_count": null,
      "outputs": [
        {
          "output_type": "execute_result",
          "data": {
            "text/plain": [
              "808"
            ]
          },
          "metadata": {},
          "execution_count": 112
        }
      ]
    },
    {
      "cell_type": "markdown",
      "source": [
        "Determina-se os vetores X e y do problema de classificação com base nos atributos e nas classes."
      ],
      "metadata": {
        "id": "1mE7ufabkXSi"
      }
    },
    {
      "cell_type": "code",
      "execution_count": null,
      "metadata": {
        "id": "hAui9sg3zHNU"
      },
      "outputs": [],
      "source": [
        "# Converte os itens para array\n",
        "X = np.array(features)\n",
        "y = np.array(selected_targets)"
      ]
    },
    {
      "cell_type": "markdown",
      "source": [
        "</br></br>"
      ],
      "metadata": {
        "id": "7cLL1xu-3EE7"
      }
    },
    {
      "cell_type": "markdown",
      "source": [
        "---\n",
        "</br></br>\n",
        "\n",
        "## Implementação do Classificador KNN"
      ],
      "metadata": {
        "id": "ZUOsdHZ-_2uW"
      }
    },
    {
      "cell_type": "markdown",
      "source": [
        "Nesta seção, implementa-se o **classificador KNN**. Esse modelo toma as classes das **k** amostras de treinamento mais próximas a uma amostra de teste como base para realizar a classificação. Em síntese, a classe mais frequente é assumida como classe da observação de interesse."
      ],
      "metadata": {
        "id": "oWaHiV-Mk6_j"
      }
    },
    {
      "cell_type": "markdown",
      "source": [
        "O bloco abaixo implementa o modelo a partir do módulo PyTorch."
      ],
      "metadata": {
        "id": "QE0LktzvnC1s"
      }
    },
    {
      "cell_type": "code",
      "source": [
        "import torch\n",
        "\n",
        "class KNNClassifier:\n",
        "    \n",
        "    def __init__(self, k=5, p=2, device='cuda'):\n",
        "        # Inicializa os atributos da classe\n",
        "        self.k = k\n",
        "        self.p = p\n",
        "        self.device = device\n",
        "    \n",
        "    def fit(self, X, y):\n",
        "        # Salva as amostras e suas classes como tensores\n",
        "        self.X_train = torch.from_numpy(X).float().to(self.device)\n",
        "        self.y_train = torch.from_numpy(y).to(self.device)\n",
        "    \n",
        "    def predict(self, X):\n",
        "        # Converte as amostras de teste em tensores\n",
        "        X_test = torch.from_numpy(X).float().to(self.device)\n",
        "\n",
        "        # Calcula a distância entre as amostras de teste e as de treinamento\n",
        "        dists = torch.cdist(X_test, self.X_train, p=self.p)\n",
        "\n",
        "        # Obtém o índice das k amostras de treinamento mais próximas a cada amostra de teste\n",
        "        _, indices = torch.topk(dists, k=self.k, dim=-1, largest=False)\n",
        "\n",
        "        # Obtém a classe dessas amostras de treinamento mais próximas\n",
        "        k_nearest_labels = self.y_train[indices]\n",
        "\n",
        "        # Determina as classes das amostras de teste com base nas k amostras de treinamento\n",
        "        predictions = torch.mode(k_nearest_labels, dim=-1)[0]\n",
        "\n",
        "        # Retorna as predições\n",
        "        return predictions.cpu().numpy()"
      ],
      "metadata": {
        "id": "zJcUsFt0_8hE"
      },
      "execution_count": null,
      "outputs": []
    },
    {
      "cell_type": "markdown",
      "source": [
        "</br></br>"
      ],
      "metadata": {
        "id": "-YZFEXbC3Mc9"
      }
    },
    {
      "cell_type": "markdown",
      "metadata": {
        "id": "qdr5EYGtdqPx"
      },
      "source": [
        "---\n",
        "</br></br>\n",
        "\n",
        "## Classificação de Padrões"
      ]
    },
    {
      "cell_type": "markdown",
      "source": [
        "Neste momento, inicia-se a fase de classificação de padrões sem a seleção de atributos."
      ],
      "metadata": {
        "id": "Afs1pXzxnbrG"
      }
    },
    {
      "cell_type": "markdown",
      "source": [
        "### Divisão dos Dados"
      ],
      "metadata": {
        "id": "1wJ-DZlhkrnQ"
      }
    },
    {
      "cell_type": "markdown",
      "source": [
        "Primeiramente, realiza-se a divisão dos dados em subconjuntos de treinamento e teste."
      ],
      "metadata": {
        "id": "418idgVjnkdg"
      }
    },
    {
      "cell_type": "code",
      "execution_count": null,
      "metadata": {
        "id": "wsIv6JzZdqPx"
      },
      "outputs": [],
      "source": [
        "from sklearn.model_selection import train_test_split\n",
        "\n",
        "X_train, X_test, y_train, y_test = train_test_split(X, y, test_size=0.2, random_state=42)"
      ]
    },
    {
      "cell_type": "markdown",
      "source": [
        "### Avaliação do Modelo"
      ],
      "metadata": {
        "id": "E_3nk_swkxpQ"
      }
    },
    {
      "cell_type": "markdown",
      "source": [
        "Na sequência, salva-se as amostras de treinamento e classifica-se as observações de teste."
      ],
      "metadata": {
        "id": "96RxfJGGn1QI"
      }
    },
    {
      "cell_type": "code",
      "source": [
        "knn = KNNClassifier()\n",
        "\n",
        "knn.fit(X_train, y_train)\n",
        "\n",
        "y_pred = knn.predict(X_test)"
      ],
      "metadata": {
        "id": "56Wt2L5mAkZO"
      },
      "execution_count": null,
      "outputs": []
    },
    {
      "cell_type": "markdown",
      "source": [
        "Por fim, avalia-se o modelo com base em métricas de classificação."
      ],
      "metadata": {
        "id": "HARavrU8oG7d"
      }
    },
    {
      "cell_type": "code",
      "execution_count": null,
      "metadata": {
        "colab": {
          "base_uri": "https://localhost:8080/"
        },
        "id": "T6K9arFddqPy",
        "outputId": "af780f11-16e4-492b-b345-fd357095376b"
      },
      "outputs": [
        {
          "output_type": "stream",
          "name": "stdout",
          "text": [
            "              precision    recall  f1-score   support\n",
            "\n",
            "    camiseta       0.78      0.86      0.82      1381\n",
            "      casaco       0.81      0.83      0.82      1410\n",
            "      camisa       0.69      0.60      0.64      1409\n",
            "\n",
            "    accuracy                           0.77      4200\n",
            "   macro avg       0.76      0.77      0.76      4200\n",
            "weighted avg       0.76      0.77      0.76      4200\n",
            "\n"
          ]
        }
      ],
      "source": [
        "from sklearn.metrics import classification_report\n",
        "\n",
        "print(classification_report(y_test, y_pred, target_names=labels_descr.values()))"
      ]
    },
    {
      "cell_type": "markdown",
      "source": [
        "</br></br>"
      ],
      "metadata": {
        "id": "T3c-UV7_5U6w"
      }
    },
    {
      "cell_type": "markdown",
      "metadata": {
        "id": "itOR3cjQdqPz"
      },
      "source": [
        "---\n",
        "</br></br>\n",
        "\n",
        "## Classificação de Padrões com Seleção de Atributos"
      ]
    },
    {
      "cell_type": "markdown",
      "source": [
        "Neste momento, inicia-se a fase de classificação de padrões considerando a seleção de atributos para manter somente os mais relevantes."
      ],
      "metadata": {
        "id": "YOMwnPBdprBo"
      }
    },
    {
      "cell_type": "markdown",
      "source": [
        "### Divisão dos Dados"
      ],
      "metadata": {
        "id": "QVaogHhFqPaw"
      }
    },
    {
      "cell_type": "markdown",
      "source": [
        "Separa-se parte do subconjunto de treinamento para a validação."
      ],
      "metadata": {
        "id": "AGeL9R53piG5"
      }
    },
    {
      "cell_type": "code",
      "execution_count": null,
      "metadata": {
        "id": "KpC3d4urdqPz"
      },
      "outputs": [],
      "source": [
        "# Separa entre conjunto de treinamento e validação\n",
        "X_train, X_val, y_train, y_val = train_test_split(X_train, y_train, test_size=0.2, random_state=42)"
      ]
    },
    {
      "cell_type": "markdown",
      "metadata": {
        "id": "QIDjy8aPdqPz"
      },
      "source": [
        "### Seleção de Atributos"
      ]
    },
    {
      "cell_type": "markdown",
      "source": [
        "Em primeiro lugar, define-se a função objetivo (ou custo) do problema. Como o método **wrapper** foi escolhido, essa função avalia a performance do modelo na classificação de amostras de validação com os atributos selecionados por um agente da meta-heurística."
      ],
      "metadata": {
        "id": "ZSRSQ5U5qxLI"
      }
    },
    {
      "cell_type": "code",
      "source": [
        "from sklearn.metrics import accuracy_score\n",
        "\n",
        "def fitness_function(features):\n",
        "    selected_features = features.reshape(-1).astype(int)\n",
        "\n",
        "    selected_X_train = X_train[:, selected_features]\n",
        "    selected_X_val = X_val[:, selected_features]\n",
        "\n",
        "    knn = KNNClassifier()\n",
        "\n",
        "    knn.fit(selected_X_train, y_train)\n",
        "\n",
        "    y_pred = knn.predict(selected_X_val)\n",
        "\n",
        "    return 1 - accuracy_score(y_val, y_pred)"
      ],
      "metadata": {
        "id": "a04cUjiuAsiG"
      },
      "execution_count": null,
      "outputs": []
    },
    {
      "cell_type": "markdown",
      "source": [
        "Em seguida, executa-se a meta-heurística BPSO para a seleção de características."
      ],
      "metadata": {
        "id": "L90JGPF-q8sr"
      }
    },
    {
      "cell_type": "code",
      "execution_count": null,
      "metadata": {
        "colab": {
          "base_uri": "https://localhost:8080/"
        },
        "id": "ZFNTRgqldqP1",
        "outputId": "80783ada-6475-428b-d0e1-7ed5a0b0eb08"
      },
      "outputs": [
        {
          "output_type": "stream",
          "name": "stdout",
          "text": [
            "2023-06-06 23:56:00,864 - opytimizer.spaces.boolean — INFO — Overriding class: Space -> BooleanSpace.\n",
            "2023-06-06 23:56:01,052 - opytimizer.core.space — DEBUG — Agents: 20 | Size: (808, 1) | Lower Bound: [0. 0. 0. 0. 0. 0. 0. 0. 0. 0. 0. 0. 0. 0. 0. 0. 0. 0. 0. 0. 0. 0. 0. 0.\n",
            " 0. 0. 0. 0. 0. 0. 0. 0. 0. 0. 0. 0. 0. 0. 0. 0. 0. 0. 0. 0. 0. 0. 0. 0.\n",
            " 0. 0. 0. 0. 0. 0. 0. 0. 0. 0. 0. 0. 0. 0. 0. 0. 0. 0. 0. 0. 0. 0. 0. 0.\n",
            " 0. 0. 0. 0. 0. 0. 0. 0. 0. 0. 0. 0. 0. 0. 0. 0. 0. 0. 0. 0. 0. 0. 0. 0.\n",
            " 0. 0. 0. 0. 0. 0. 0. 0. 0. 0. 0. 0. 0. 0. 0. 0. 0. 0. 0. 0. 0. 0. 0. 0.\n",
            " 0. 0. 0. 0. 0. 0. 0. 0. 0. 0. 0. 0. 0. 0. 0. 0. 0. 0. 0. 0. 0. 0. 0. 0.\n",
            " 0. 0. 0. 0. 0. 0. 0. 0. 0. 0. 0. 0. 0. 0. 0. 0. 0. 0. 0. 0. 0. 0. 0. 0.\n",
            " 0. 0. 0. 0. 0. 0. 0. 0. 0. 0. 0. 0. 0. 0. 0. 0. 0. 0. 0. 0. 0. 0. 0. 0.\n",
            " 0. 0. 0. 0. 0. 0. 0. 0. 0. 0. 0. 0. 0. 0. 0. 0. 0. 0. 0. 0. 0. 0. 0. 0.\n",
            " 0. 0. 0. 0. 0. 0. 0. 0. 0. 0. 0. 0. 0. 0. 0. 0. 0. 0. 0. 0. 0. 0. 0. 0.\n",
            " 0. 0. 0. 0. 0. 0. 0. 0. 0. 0. 0. 0. 0. 0. 0. 0. 0. 0. 0. 0. 0. 0. 0. 0.\n",
            " 0. 0. 0. 0. 0. 0. 0. 0. 0. 0. 0. 0. 0. 0. 0. 0. 0. 0. 0. 0. 0. 0. 0. 0.\n",
            " 0. 0. 0. 0. 0. 0. 0. 0. 0. 0. 0. 0. 0. 0. 0. 0. 0. 0. 0. 0. 0. 0. 0. 0.\n",
            " 0. 0. 0. 0. 0. 0. 0. 0. 0. 0. 0. 0. 0. 0. 0. 0. 0. 0. 0. 0. 0. 0. 0. 0.\n",
            " 0. 0. 0. 0. 0. 0. 0. 0. 0. 0. 0. 0. 0. 0. 0. 0. 0. 0. 0. 0. 0. 0. 0. 0.\n",
            " 0. 0. 0. 0. 0. 0. 0. 0. 0. 0. 0. 0. 0. 0. 0. 0. 0. 0. 0. 0. 0. 0. 0. 0.\n",
            " 0. 0. 0. 0. 0. 0. 0. 0. 0. 0. 0. 0. 0. 0. 0. 0. 0. 0. 0. 0. 0. 0. 0. 0.\n",
            " 0. 0. 0. 0. 0. 0. 0. 0. 0. 0. 0. 0. 0. 0. 0. 0. 0. 0. 0. 0. 0. 0. 0. 0.\n",
            " 0. 0. 0. 0. 0. 0. 0. 0. 0. 0. 0. 0. 0. 0. 0. 0. 0. 0. 0. 0. 0. 0. 0. 0.\n",
            " 0. 0. 0. 0. 0. 0. 0. 0. 0. 0. 0. 0. 0. 0. 0. 0. 0. 0. 0. 0. 0. 0. 0. 0.\n",
            " 0. 0. 0. 0. 0. 0. 0. 0. 0. 0. 0. 0. 0. 0. 0. 0. 0. 0. 0. 0. 0. 0. 0. 0.\n",
            " 0. 0. 0. 0. 0. 0. 0. 0. 0. 0. 0. 0. 0. 0. 0. 0. 0. 0. 0. 0. 0. 0. 0. 0.\n",
            " 0. 0. 0. 0. 0. 0. 0. 0. 0. 0. 0. 0. 0. 0. 0. 0. 0. 0. 0. 0. 0. 0. 0. 0.\n",
            " 0. 0. 0. 0. 0. 0. 0. 0. 0. 0. 0. 0. 0. 0. 0. 0. 0. 0. 0. 0. 0. 0. 0. 0.\n",
            " 0. 0. 0. 0. 0. 0. 0. 0. 0. 0. 0. 0. 0. 0. 0. 0. 0. 0. 0. 0. 0. 0. 0. 0.\n",
            " 0. 0. 0. 0. 0. 0. 0. 0. 0. 0. 0. 0. 0. 0. 0. 0. 0. 0. 0. 0. 0. 0. 0. 0.\n",
            " 0. 0. 0. 0. 0. 0. 0. 0. 0. 0. 0. 0. 0. 0. 0. 0. 0. 0. 0. 0. 0. 0. 0. 0.\n",
            " 0. 0. 0. 0. 0. 0. 0. 0. 0. 0. 0. 0. 0. 0. 0. 0. 0. 0. 0. 0. 0. 0. 0. 0.\n",
            " 0. 0. 0. 0. 0. 0. 0. 0. 0. 0. 0. 0. 0. 0. 0. 0. 0. 0. 0. 0. 0. 0. 0. 0.\n",
            " 0. 0. 0. 0. 0. 0. 0. 0. 0. 0. 0. 0. 0. 0. 0. 0. 0. 0. 0. 0. 0. 0. 0. 0.\n",
            " 0. 0. 0. 0. 0. 0. 0. 0. 0. 0. 0. 0. 0. 0. 0. 0. 0. 0. 0. 0. 0. 0. 0. 0.\n",
            " 0. 0. 0. 0. 0. 0. 0. 0. 0. 0. 0. 0. 0. 0. 0. 0. 0. 0. 0. 0. 0. 0. 0. 0.\n",
            " 0. 0. 0. 0. 0. 0. 0. 0. 0. 0. 0. 0. 0. 0. 0. 0. 0. 0. 0. 0. 0. 0. 0. 0.\n",
            " 0. 0. 0. 0. 0. 0. 0. 0. 0. 0. 0. 0. 0. 0. 0. 0.] | Upper Bound: [1. 1. 1. 1. 1. 1. 1. 1. 1. 1. 1. 1. 1. 1. 1. 1. 1. 1. 1. 1. 1. 1. 1. 1.\n",
            " 1. 1. 1. 1. 1. 1. 1. 1. 1. 1. 1. 1. 1. 1. 1. 1. 1. 1. 1. 1. 1. 1. 1. 1.\n",
            " 1. 1. 1. 1. 1. 1. 1. 1. 1. 1. 1. 1. 1. 1. 1. 1. 1. 1. 1. 1. 1. 1. 1. 1.\n",
            " 1. 1. 1. 1. 1. 1. 1. 1. 1. 1. 1. 1. 1. 1. 1. 1. 1. 1. 1. 1. 1. 1. 1. 1.\n",
            " 1. 1. 1. 1. 1. 1. 1. 1. 1. 1. 1. 1. 1. 1. 1. 1. 1. 1. 1. 1. 1. 1. 1. 1.\n",
            " 1. 1. 1. 1. 1. 1. 1. 1. 1. 1. 1. 1. 1. 1. 1. 1. 1. 1. 1. 1. 1. 1. 1. 1.\n",
            " 1. 1. 1. 1. 1. 1. 1. 1. 1. 1. 1. 1. 1. 1. 1. 1. 1. 1. 1. 1. 1. 1. 1. 1.\n",
            " 1. 1. 1. 1. 1. 1. 1. 1. 1. 1. 1. 1. 1. 1. 1. 1. 1. 1. 1. 1. 1. 1. 1. 1.\n",
            " 1. 1. 1. 1. 1. 1. 1. 1. 1. 1. 1. 1. 1. 1. 1. 1. 1. 1. 1. 1. 1. 1. 1. 1.\n",
            " 1. 1. 1. 1. 1. 1. 1. 1. 1. 1. 1. 1. 1. 1. 1. 1. 1. 1. 1. 1. 1. 1. 1. 1.\n",
            " 1. 1. 1. 1. 1. 1. 1. 1. 1. 1. 1. 1. 1. 1. 1. 1. 1. 1. 1. 1. 1. 1. 1. 1.\n",
            " 1. 1. 1. 1. 1. 1. 1. 1. 1. 1. 1. 1. 1. 1. 1. 1. 1. 1. 1. 1. 1. 1. 1. 1.\n",
            " 1. 1. 1. 1. 1. 1. 1. 1. 1. 1. 1. 1. 1. 1. 1. 1. 1. 1. 1. 1. 1. 1. 1. 1.\n",
            " 1. 1. 1. 1. 1. 1. 1. 1. 1. 1. 1. 1. 1. 1. 1. 1. 1. 1. 1. 1. 1. 1. 1. 1.\n",
            " 1. 1. 1. 1. 1. 1. 1. 1. 1. 1. 1. 1. 1. 1. 1. 1. 1. 1. 1. 1. 1. 1. 1. 1.\n",
            " 1. 1. 1. 1. 1. 1. 1. 1. 1. 1. 1. 1. 1. 1. 1. 1. 1. 1. 1. 1. 1. 1. 1. 1.\n",
            " 1. 1. 1. 1. 1. 1. 1. 1. 1. 1. 1. 1. 1. 1. 1. 1. 1. 1. 1. 1. 1. 1. 1. 1.\n",
            " 1. 1. 1. 1. 1. 1. 1. 1. 1. 1. 1. 1. 1. 1. 1. 1. 1. 1. 1. 1. 1. 1. 1. 1.\n",
            " 1. 1. 1. 1. 1. 1. 1. 1. 1. 1. 1. 1. 1. 1. 1. 1. 1. 1. 1. 1. 1. 1. 1. 1.\n",
            " 1. 1. 1. 1. 1. 1. 1. 1. 1. 1. 1. 1. 1. 1. 1. 1. 1. 1. 1. 1. 1. 1. 1. 1.\n",
            " 1. 1. 1. 1. 1. 1. 1. 1. 1. 1. 1. 1. 1. 1. 1. 1. 1. 1. 1. 1. 1. 1. 1. 1.\n",
            " 1. 1. 1. 1. 1. 1. 1. 1. 1. 1. 1. 1. 1. 1. 1. 1. 1. 1. 1. 1. 1. 1. 1. 1.\n",
            " 1. 1. 1. 1. 1. 1. 1. 1. 1. 1. 1. 1. 1. 1. 1. 1. 1. 1. 1. 1. 1. 1. 1. 1.\n",
            " 1. 1. 1. 1. 1. 1. 1. 1. 1. 1. 1. 1. 1. 1. 1. 1. 1. 1. 1. 1. 1. 1. 1. 1.\n",
            " 1. 1. 1. 1. 1. 1. 1. 1. 1. 1. 1. 1. 1. 1. 1. 1. 1. 1. 1. 1. 1. 1. 1. 1.\n",
            " 1. 1. 1. 1. 1. 1. 1. 1. 1. 1. 1. 1. 1. 1. 1. 1. 1. 1. 1. 1. 1. 1. 1. 1.\n",
            " 1. 1. 1. 1. 1. 1. 1. 1. 1. 1. 1. 1. 1. 1. 1. 1. 1. 1. 1. 1. 1. 1. 1. 1.\n",
            " 1. 1. 1. 1. 1. 1. 1. 1. 1. 1. 1. 1. 1. 1. 1. 1. 1. 1. 1. 1. 1. 1. 1. 1.\n",
            " 1. 1. 1. 1. 1. 1. 1. 1. 1. 1. 1. 1. 1. 1. 1. 1. 1. 1. 1. 1. 1. 1. 1. 1.\n",
            " 1. 1. 1. 1. 1. 1. 1. 1. 1. 1. 1. 1. 1. 1. 1. 1. 1. 1. 1. 1. 1. 1. 1. 1.\n",
            " 1. 1. 1. 1. 1. 1. 1. 1. 1. 1. 1. 1. 1. 1. 1. 1. 1. 1. 1. 1. 1. 1. 1. 1.\n",
            " 1. 1. 1. 1. 1. 1. 1. 1. 1. 1. 1. 1. 1. 1. 1. 1. 1. 1. 1. 1. 1. 1. 1. 1.\n",
            " 1. 1. 1. 1. 1. 1. 1. 1. 1. 1. 1. 1. 1. 1. 1. 1. 1. 1. 1. 1. 1. 1. 1. 1.\n",
            " 1. 1. 1. 1. 1. 1. 1. 1. 1. 1. 1. 1. 1. 1. 1. 1.] | Mapping: ['x0', 'x1', 'x2', 'x3', 'x4', 'x5', 'x6', 'x7', 'x8', 'x9', 'x10', 'x11', 'x12', 'x13', 'x14', 'x15', 'x16', 'x17', 'x18', 'x19', 'x20', 'x21', 'x22', 'x23', 'x24', 'x25', 'x26', 'x27', 'x28', 'x29', 'x30', 'x31', 'x32', 'x33', 'x34', 'x35', 'x36', 'x37', 'x38', 'x39', 'x40', 'x41', 'x42', 'x43', 'x44', 'x45', 'x46', 'x47', 'x48', 'x49', 'x50', 'x51', 'x52', 'x53', 'x54', 'x55', 'x56', 'x57', 'x58', 'x59', 'x60', 'x61', 'x62', 'x63', 'x64', 'x65', 'x66', 'x67', 'x68', 'x69', 'x70', 'x71', 'x72', 'x73', 'x74', 'x75', 'x76', 'x77', 'x78', 'x79', 'x80', 'x81', 'x82', 'x83', 'x84', 'x85', 'x86', 'x87', 'x88', 'x89', 'x90', 'x91', 'x92', 'x93', 'x94', 'x95', 'x96', 'x97', 'x98', 'x99', 'x100', 'x101', 'x102', 'x103', 'x104', 'x105', 'x106', 'x107', 'x108', 'x109', 'x110', 'x111', 'x112', 'x113', 'x114', 'x115', 'x116', 'x117', 'x118', 'x119', 'x120', 'x121', 'x122', 'x123', 'x124', 'x125', 'x126', 'x127', 'x128', 'x129', 'x130', 'x131', 'x132', 'x133', 'x134', 'x135', 'x136', 'x137', 'x138', 'x139', 'x140', 'x141', 'x142', 'x143', 'x144', 'x145', 'x146', 'x147', 'x148', 'x149', 'x150', 'x151', 'x152', 'x153', 'x154', 'x155', 'x156', 'x157', 'x158', 'x159', 'x160', 'x161', 'x162', 'x163', 'x164', 'x165', 'x166', 'x167', 'x168', 'x169', 'x170', 'x171', 'x172', 'x173', 'x174', 'x175', 'x176', 'x177', 'x178', 'x179', 'x180', 'x181', 'x182', 'x183', 'x184', 'x185', 'x186', 'x187', 'x188', 'x189', 'x190', 'x191', 'x192', 'x193', 'x194', 'x195', 'x196', 'x197', 'x198', 'x199', 'x200', 'x201', 'x202', 'x203', 'x204', 'x205', 'x206', 'x207', 'x208', 'x209', 'x210', 'x211', 'x212', 'x213', 'x214', 'x215', 'x216', 'x217', 'x218', 'x219', 'x220', 'x221', 'x222', 'x223', 'x224', 'x225', 'x226', 'x227', 'x228', 'x229', 'x230', 'x231', 'x232', 'x233', 'x234', 'x235', 'x236', 'x237', 'x238', 'x239', 'x240', 'x241', 'x242', 'x243', 'x244', 'x245', 'x246', 'x247', 'x248', 'x249', 'x250', 'x251', 'x252', 'x253', 'x254', 'x255', 'x256', 'x257', 'x258', 'x259', 'x260', 'x261', 'x262', 'x263', 'x264', 'x265', 'x266', 'x267', 'x268', 'x269', 'x270', 'x271', 'x272', 'x273', 'x274', 'x275', 'x276', 'x277', 'x278', 'x279', 'x280', 'x281', 'x282', 'x283', 'x284', 'x285', 'x286', 'x287', 'x288', 'x289', 'x290', 'x291', 'x292', 'x293', 'x294', 'x295', 'x296', 'x297', 'x298', 'x299', 'x300', 'x301', 'x302', 'x303', 'x304', 'x305', 'x306', 'x307', 'x308', 'x309', 'x310', 'x311', 'x312', 'x313', 'x314', 'x315', 'x316', 'x317', 'x318', 'x319', 'x320', 'x321', 'x322', 'x323', 'x324', 'x325', 'x326', 'x327', 'x328', 'x329', 'x330', 'x331', 'x332', 'x333', 'x334', 'x335', 'x336', 'x337', 'x338', 'x339', 'x340', 'x341', 'x342', 'x343', 'x344', 'x345', 'x346', 'x347', 'x348', 'x349', 'x350', 'x351', 'x352', 'x353', 'x354', 'x355', 'x356', 'x357', 'x358', 'x359', 'x360', 'x361', 'x362', 'x363', 'x364', 'x365', 'x366', 'x367', 'x368', 'x369', 'x370', 'x371', 'x372', 'x373', 'x374', 'x375', 'x376', 'x377', 'x378', 'x379', 'x380', 'x381', 'x382', 'x383', 'x384', 'x385', 'x386', 'x387', 'x388', 'x389', 'x390', 'x391', 'x392', 'x393', 'x394', 'x395', 'x396', 'x397', 'x398', 'x399', 'x400', 'x401', 'x402', 'x403', 'x404', 'x405', 'x406', 'x407', 'x408', 'x409', 'x410', 'x411', 'x412', 'x413', 'x414', 'x415', 'x416', 'x417', 'x418', 'x419', 'x420', 'x421', 'x422', 'x423', 'x424', 'x425', 'x426', 'x427', 'x428', 'x429', 'x430', 'x431', 'x432', 'x433', 'x434', 'x435', 'x436', 'x437', 'x438', 'x439', 'x440', 'x441', 'x442', 'x443', 'x444', 'x445', 'x446', 'x447', 'x448', 'x449', 'x450', 'x451', 'x452', 'x453', 'x454', 'x455', 'x456', 'x457', 'x458', 'x459', 'x460', 'x461', 'x462', 'x463', 'x464', 'x465', 'x466', 'x467', 'x468', 'x469', 'x470', 'x471', 'x472', 'x473', 'x474', 'x475', 'x476', 'x477', 'x478', 'x479', 'x480', 'x481', 'x482', 'x483', 'x484', 'x485', 'x486', 'x487', 'x488', 'x489', 'x490', 'x491', 'x492', 'x493', 'x494', 'x495', 'x496', 'x497', 'x498', 'x499', 'x500', 'x501', 'x502', 'x503', 'x504', 'x505', 'x506', 'x507', 'x508', 'x509', 'x510', 'x511', 'x512', 'x513', 'x514', 'x515', 'x516', 'x517', 'x518', 'x519', 'x520', 'x521', 'x522', 'x523', 'x524', 'x525', 'x526', 'x527', 'x528', 'x529', 'x530', 'x531', 'x532', 'x533', 'x534', 'x535', 'x536', 'x537', 'x538', 'x539', 'x540', 'x541', 'x542', 'x543', 'x544', 'x545', 'x546', 'x547', 'x548', 'x549', 'x550', 'x551', 'x552', 'x553', 'x554', 'x555', 'x556', 'x557', 'x558', 'x559', 'x560', 'x561', 'x562', 'x563', 'x564', 'x565', 'x566', 'x567', 'x568', 'x569', 'x570', 'x571', 'x572', 'x573', 'x574', 'x575', 'x576', 'x577', 'x578', 'x579', 'x580', 'x581', 'x582', 'x583', 'x584', 'x585', 'x586', 'x587', 'x588', 'x589', 'x590', 'x591', 'x592', 'x593', 'x594', 'x595', 'x596', 'x597', 'x598', 'x599', 'x600', 'x601', 'x602', 'x603', 'x604', 'x605', 'x606', 'x607', 'x608', 'x609', 'x610', 'x611', 'x612', 'x613', 'x614', 'x615', 'x616', 'x617', 'x618', 'x619', 'x620', 'x621', 'x622', 'x623', 'x624', 'x625', 'x626', 'x627', 'x628', 'x629', 'x630', 'x631', 'x632', 'x633', 'x634', 'x635', 'x636', 'x637', 'x638', 'x639', 'x640', 'x641', 'x642', 'x643', 'x644', 'x645', 'x646', 'x647', 'x648', 'x649', 'x650', 'x651', 'x652', 'x653', 'x654', 'x655', 'x656', 'x657', 'x658', 'x659', 'x660', 'x661', 'x662', 'x663', 'x664', 'x665', 'x666', 'x667', 'x668', 'x669', 'x670', 'x671', 'x672', 'x673', 'x674', 'x675', 'x676', 'x677', 'x678', 'x679', 'x680', 'x681', 'x682', 'x683', 'x684', 'x685', 'x686', 'x687', 'x688', 'x689', 'x690', 'x691', 'x692', 'x693', 'x694', 'x695', 'x696', 'x697', 'x698', 'x699', 'x700', 'x701', 'x702', 'x703', 'x704', 'x705', 'x706', 'x707', 'x708', 'x709', 'x710', 'x711', 'x712', 'x713', 'x714', 'x715', 'x716', 'x717', 'x718', 'x719', 'x720', 'x721', 'x722', 'x723', 'x724', 'x725', 'x726', 'x727', 'x728', 'x729', 'x730', 'x731', 'x732', 'x733', 'x734', 'x735', 'x736', 'x737', 'x738', 'x739', 'x740', 'x741', 'x742', 'x743', 'x744', 'x745', 'x746', 'x747', 'x748', 'x749', 'x750', 'x751', 'x752', 'x753', 'x754', 'x755', 'x756', 'x757', 'x758', 'x759', 'x760', 'x761', 'x762', 'x763', 'x764', 'x765', 'x766', 'x767', 'x768', 'x769', 'x770', 'x771', 'x772', 'x773', 'x774', 'x775', 'x776', 'x777', 'x778', 'x779', 'x780', 'x781', 'x782', 'x783', 'x784', 'x785', 'x786', 'x787', 'x788', 'x789', 'x790', 'x791', 'x792', 'x793', 'x794', 'x795', 'x796', 'x797', 'x798', 'x799', 'x800', 'x801', 'x802', 'x803', 'x804', 'x805', 'x806', 'x807'] | Built: True.\n",
            "2023-06-06 23:56:01,071 - opytimizer.spaces.boolean — INFO — Class overrided.\n",
            "2023-06-06 23:56:01,072 - opytimizer.optimizers.boolean.bpso — INFO — Overriding class: Optimizer -> BPSO.\n",
            "2023-06-06 23:56:01,074 - opytimizer.core.optimizer — DEBUG — Algorithm: BPSO | Custom Parameters: None | Built: True.\n",
            "2023-06-06 23:56:01,076 - opytimizer.optimizers.boolean.bpso — INFO — Class overrided.\n",
            "2023-06-06 23:56:01,078 - opytimizer.core.function — INFO — Creating class: Function.\n",
            "2023-06-06 23:56:01,083 - opytimizer.core.function — DEBUG — Function: fitness_function | Built: True.\n",
            "2023-06-06 23:56:01,084 - opytimizer.core.function — INFO — Class created.\n",
            "2023-06-06 23:56:01,087 - opytimizer.opytimizer — INFO — Creating class: Opytimizer.\n",
            "2023-06-06 23:56:01,088 - opytimizer.opytimizer — DEBUG — Space: <opytimizer.spaces.boolean.BooleanSpace object at 0x7f6589510910> | Optimizer: <opytimizer.optimizers.boolean.bpso.BPSO object at 0x7f65895108e0>| Function: <opytimizer.core.function.Function object at 0x7f6657c65a50>.\n",
            "2023-06-06 23:56:01,089 - opytimizer.opytimizer — INFO — Class created.\n",
            "2023-06-06 23:56:01,091 - opytimizer.opytimizer — INFO — Starting optimization task.\n"
          ]
        },
        {
          "output_type": "stream",
          "name": "stderr",
          "text": [
            "100%|##########| 150/150 [06:29<00:00,  2.60s/it, fitness=0.658]"
          ]
        },
        {
          "output_type": "stream",
          "name": "stdout",
          "text": [
            "2023-06-07 00:02:33,211 - opytimizer.opytimizer — INFO — Optimization task ended.\n",
            "2023-06-07 00:02:33,213 - opytimizer.opytimizer — INFO — It took 392.11914014816284 seconds.\n"
          ]
        },
        {
          "output_type": "stream",
          "name": "stderr",
          "text": [
            "\n"
          ]
        }
      ],
      "source": [
        "from opytimizer import Opytimizer\n",
        "from opytimizer.core import Function\n",
        "from opytimizer.optimizers.boolean import BPSO\n",
        "from opytimizer.spaces import BooleanSpace\n",
        "\n",
        "# Define uma seed para replicação dos resultados\n",
        "np.random.seed(13)\n",
        "\n",
        "# Define os parâmetros da meta-heurística\n",
        "space = BooleanSpace(n_agents=20, n_variables=X_train.shape[1])\n",
        "optimizer = BPSO()\n",
        "function = Function(fitness_function)\n",
        "\n",
        "# Instância a meta-heurística\n",
        "opt = Opytimizer(space, optimizer, function)\n",
        "                                                                                                                                                                                                                                                                                                                                                        \n",
        "# Executa a seleção de atributos\n",
        "opt.start(n_iterations=150)"
      ]
    },
    {
      "cell_type": "markdown",
      "source": [
        "Exibe-se a melhor solução obtida pela meta-heurística."
      ],
      "metadata": {
        "id": "QI-eb3L-r_jx"
      }
    },
    {
      "cell_type": "code",
      "execution_count": null,
      "metadata": {
        "colab": {
          "base_uri": "https://localhost:8080/"
        },
        "id": "PH-sbwdo4DIb",
        "outputId": "0794e3ec-16f4-4f6d-f378-fdc2fd538faf"
      },
      "outputs": [
        {
          "output_type": "execute_result",
          "data": {
            "text/plain": [
              "array([ True, False,  True,  True,  True, False,  True,  True,  True,\n",
              "        True, False, False, False,  True, False,  True, False, False,\n",
              "       False, False,  True, False, False,  True, False, False,  True,\n",
              "        True, False,  True,  True, False,  True,  True, False,  True,\n",
              "       False, False,  True, False, False,  True,  True, False, False,\n",
              "       False, False,  True,  True, False,  True,  True, False, False,\n",
              "       False, False,  True,  True, False,  True,  True, False,  True,\n",
              "       False, False, False, False,  True,  True,  True, False, False,\n",
              "        True, False, False,  True, False, False,  True,  True,  True,\n",
              "       False, False,  True, False, False, False, False,  True, False,\n",
              "        True,  True, False, False,  True, False, False, False,  True,\n",
              "        True,  True,  True, False, False,  True, False,  True, False,\n",
              "       False, False,  True, False, False, False, False, False, False,\n",
              "        True,  True, False,  True,  True,  True, False, False,  True,\n",
              "        True, False, False,  True,  True, False, False, False,  True,\n",
              "        True,  True,  True, False,  True, False,  True,  True, False,\n",
              "       False, False, False, False, False, False,  True, False,  True,\n",
              "       False,  True, False, False,  True, False, False,  True, False,\n",
              "       False,  True,  True,  True,  True, False,  True,  True,  True,\n",
              "        True, False,  True, False,  True, False, False, False,  True,\n",
              "       False,  True,  True, False, False, False,  True,  True, False,\n",
              "       False, False, False, False,  True, False,  True,  True,  True,\n",
              "       False, False,  True, False, False, False, False,  True, False,\n",
              "        True,  True,  True, False,  True, False,  True, False,  True,\n",
              "        True, False, False, False,  True,  True,  True,  True, False,\n",
              "        True, False, False,  True,  True, False, False, False, False,\n",
              "        True, False,  True, False, False,  True,  True,  True,  True,\n",
              "       False, False,  True,  True,  True, False, False, False, False,\n",
              "       False, False, False,  True, False,  True, False, False, False,\n",
              "        True, False,  True, False,  True,  True,  True, False, False,\n",
              "        True, False,  True,  True,  True,  True, False,  True, False,\n",
              "        True,  True, False,  True, False, False,  True, False, False,\n",
              "        True, False, False, False, False, False, False,  True,  True,\n",
              "       False,  True, False,  True, False,  True, False, False, False,\n",
              "       False,  True, False, False, False,  True,  True,  True,  True,\n",
              "       False, False,  True,  True,  True, False, False, False, False,\n",
              "        True,  True,  True, False, False, False,  True, False, False,\n",
              "       False, False, False, False,  True, False, False, False, False,\n",
              "        True,  True, False,  True, False, False,  True, False, False,\n",
              "        True,  True, False,  True, False,  True,  True,  True, False,\n",
              "       False, False, False,  True, False,  True, False, False, False,\n",
              "       False,  True, False, False,  True,  True,  True,  True, False,\n",
              "        True,  True,  True, False,  True,  True, False,  True,  True,\n",
              "       False, False, False, False,  True,  True, False,  True, False,\n",
              "       False, False,  True,  True,  True,  True,  True,  True,  True,\n",
              "       False, False,  True,  True, False, False, False,  True,  True,\n",
              "        True, False,  True,  True, False, False,  True, False,  True,\n",
              "        True, False, False,  True, False,  True,  True,  True,  True,\n",
              "       False,  True,  True,  True,  True,  True,  True, False, False,\n",
              "       False, False, False,  True,  True,  True,  True,  True,  True,\n",
              "       False, False, False,  True, False, False, False, False, False,\n",
              "        True, False,  True,  True,  True, False, False, False,  True,\n",
              "       False,  True,  True,  True, False,  True,  True, False,  True,\n",
              "        True,  True, False, False, False,  True, False,  True, False,\n",
              "        True,  True,  True, False, False,  True, False, False, False,\n",
              "       False,  True,  True,  True,  True,  True, False, False,  True,\n",
              "       False,  True,  True,  True, False, False, False, False,  True,\n",
              "       False, False, False,  True, False, False,  True, False, False,\n",
              "        True, False, False, False,  True, False,  True, False, False,\n",
              "        True,  True,  True, False, False, False,  True,  True, False,\n",
              "       False,  True,  True, False,  True,  True,  True, False,  True,\n",
              "       False,  True,  True,  True,  True, False,  True, False,  True,\n",
              "       False,  True,  True, False,  True,  True,  True, False,  True,\n",
              "        True,  True, False,  True,  True,  True, False, False,  True,\n",
              "        True,  True,  True,  True, False, False, False,  True, False,\n",
              "       False,  True,  True, False, False,  True, False,  True,  True,\n",
              "       False, False,  True,  True,  True, False,  True, False, False,\n",
              "        True,  True, False, False, False, False, False,  True,  True,\n",
              "       False, False, False, False, False, False,  True, False,  True,\n",
              "        True,  True,  True, False, False, False,  True, False,  True,\n",
              "       False,  True, False, False, False,  True,  True,  True,  True,\n",
              "       False,  True, False, False,  True, False,  True,  True,  True,\n",
              "       False, False,  True,  True,  True,  True, False, False, False,\n",
              "       False,  True, False, False, False, False, False, False, False,\n",
              "        True, False, False,  True, False,  True,  True, False, False,\n",
              "       False, False, False, False,  True,  True, False,  True,  True,\n",
              "       False, False, False, False, False, False,  True, False,  True,\n",
              "        True, False, False,  True,  True, False, False, False, False,\n",
              "       False,  True,  True,  True,  True, False,  True, False,  True,\n",
              "       False,  True, False,  True,  True, False, False,  True, False,\n",
              "        True, False,  True, False, False,  True, False,  True, False,\n",
              "       False, False, False, False,  True,  True, False, False,  True,\n",
              "        True,  True,  True,  True, False,  True, False,  True,  True,\n",
              "       False,  True, False,  True,  True, False,  True, False, False,\n",
              "       False,  True,  True, False,  True, False, False, False,  True,\n",
              "        True,  True, False, False,  True,  True,  True,  True, False,\n",
              "       False,  True, False,  True, False,  True, False,  True,  True,\n",
              "        True, False,  True, False, False,  True,  True,  True,  True,\n",
              "        True, False, False, False,  True,  True,  True,  True, False,\n",
              "        True,  True,  True, False, False, False, False])"
            ]
          },
          "metadata": {},
          "execution_count": 121
        }
      ],
      "source": [
        "best_features = opt.history.best_agent[0][0]\n",
        "best_features = np.array(best_features).reshape(-1)\n",
        "best_features"
      ]
    },
    {
      "cell_type": "markdown",
      "source": [
        "Mostra-se o número de atributos selecionados."
      ],
      "metadata": {
        "id": "qY5pg9tMsKmx"
      }
    },
    {
      "cell_type": "code",
      "execution_count": null,
      "metadata": {
        "colab": {
          "base_uri": "https://localhost:8080/"
        },
        "id": "_wdEEpvdj6Ax",
        "outputId": "dbb94e46-1fc1-42fb-b2fc-0a5d6883aa87"
      },
      "outputs": [
        {
          "output_type": "execute_result",
          "data": {
            "text/plain": [
              "387"
            ]
          },
          "metadata": {},
          "execution_count": 122
        }
      ],
      "source": [
        "np.sum(best_features)"
      ]
    },
    {
      "cell_type": "markdown",
      "metadata": {
        "id": "W1O0L0dn5AdU"
      },
      "source": [
        "### Avaliação do Modelo"
      ]
    },
    {
      "cell_type": "markdown",
      "source": [
        "Separa-se somente os atributos selecionados."
      ],
      "metadata": {
        "id": "EcxG1KCctxxj"
      }
    },
    {
      "cell_type": "code",
      "source": [
        "selected_X_train = X_train[:, best_features]\n",
        "selected_X_test = X_test[:, best_features]"
      ],
      "metadata": {
        "id": "V0vbE44ltyVa"
      },
      "execution_count": null,
      "outputs": []
    },
    {
      "cell_type": "markdown",
      "source": [
        "Na sequência, treina-se e classifica-se as amostras de teste."
      ],
      "metadata": {
        "id": "TTl8ce2Kt7my"
      }
    },
    {
      "cell_type": "code",
      "source": [
        "knn = KNNClassifier()\n",
        "\n",
        "knn.fit(selected_X_train, y_train)\n",
        "\n",
        "y_pred = knn.predict(selected_X_test)"
      ],
      "metadata": {
        "id": "SFKINvoaA9LR"
      },
      "execution_count": null,
      "outputs": []
    },
    {
      "cell_type": "markdown",
      "source": [
        "Por fim, avalia-se o desempenho do modelo."
      ],
      "metadata": {
        "id": "_yIEV5_xuhDK"
      }
    },
    {
      "cell_type": "code",
      "execution_count": null,
      "metadata": {
        "colab": {
          "base_uri": "https://localhost:8080/"
        },
        "id": "hv2-lEzi5sPb",
        "outputId": "8012f54d-9f6b-405c-ae1a-08863f848229"
      },
      "outputs": [
        {
          "output_type": "stream",
          "name": "stdout",
          "text": [
            "              precision    recall  f1-score   support\n",
            "\n",
            "    camiseta       0.79      0.87      0.83      1381\n",
            "      casaco       0.81      0.85      0.83      1410\n",
            "      camisa       0.71      0.61      0.66      1409\n",
            "\n",
            "    accuracy                           0.78      4200\n",
            "   macro avg       0.77      0.78      0.77      4200\n",
            "weighted avg       0.77      0.78      0.77      4200\n",
            "\n"
          ]
        }
      ],
      "source": [
        "print(classification_report(y_test, y_pred, target_names=labels_descr.values()))"
      ]
    }
  ],
  "metadata": {
    "accelerator": "GPU",
    "colab": {
      "provenance": [],
      "collapsed_sections": [
        "SZwiWuR8ep_N",
        "Xh5DuzGfdqPv"
      ],
      "gpuType": "T4"
    },
    "kernelspec": {
      "display_name": "Python 3",
      "name": "python3"
    },
    "language_info": {
      "codemirror_mode": {
        "name": "ipython",
        "version": 3
      },
      "file_extension": ".py",
      "mimetype": "text/x-python",
      "name": "python",
      "nbconvert_exporter": "python",
      "pygments_lexer": "ipython3",
      "version": "3.11.2"
    },
    "widgets": {
      "application/vnd.jupyter.widget-state+json": {
        "3dddfd9f44414f078e224bb8ddbafe90": {
          "model_module": "@jupyter-widgets/controls",
          "model_name": "HBoxModel",
          "model_module_version": "1.5.0",
          "state": {
            "_dom_classes": [],
            "_model_module": "@jupyter-widgets/controls",
            "_model_module_version": "1.5.0",
            "_model_name": "HBoxModel",
            "_view_count": null,
            "_view_module": "@jupyter-widgets/controls",
            "_view_module_version": "1.5.0",
            "_view_name": "HBoxView",
            "box_style": "",
            "children": [
              "IPY_MODEL_fdaba71aaa804e3192a6d695793a4576",
              "IPY_MODEL_6631a9ae81d84a99a08d7f7df3c76dc4",
              "IPY_MODEL_6913a34a2c0241a6b02129572a44f3cd"
            ],
            "layout": "IPY_MODEL_10390de93429433894bfa2f73173671c"
          }
        },
        "fdaba71aaa804e3192a6d695793a4576": {
          "model_module": "@jupyter-widgets/controls",
          "model_name": "HTMLModel",
          "model_module_version": "1.5.0",
          "state": {
            "_dom_classes": [],
            "_model_module": "@jupyter-widgets/controls",
            "_model_module_version": "1.5.0",
            "_model_name": "HTMLModel",
            "_view_count": null,
            "_view_module": "@jupyter-widgets/controls",
            "_view_module_version": "1.5.0",
            "_view_name": "HTMLView",
            "description": "",
            "description_tooltip": null,
            "layout": "IPY_MODEL_ae7f25b1f26042e29eb9fec2b6c0a25c",
            "placeholder": "​",
            "style": "IPY_MODEL_5a11efc48dd249ef8264e0ee781fc3ee",
            "value": "100%"
          }
        },
        "6631a9ae81d84a99a08d7f7df3c76dc4": {
          "model_module": "@jupyter-widgets/controls",
          "model_name": "FloatProgressModel",
          "model_module_version": "1.5.0",
          "state": {
            "_dom_classes": [],
            "_model_module": "@jupyter-widgets/controls",
            "_model_module_version": "1.5.0",
            "_model_name": "FloatProgressModel",
            "_view_count": null,
            "_view_module": "@jupyter-widgets/controls",
            "_view_module_version": "1.5.0",
            "_view_name": "ProgressView",
            "bar_style": "success",
            "description": "",
            "description_tooltip": null,
            "layout": "IPY_MODEL_99083073e824497fba55ca43d1ef40f0",
            "max": 21000,
            "min": 0,
            "orientation": "horizontal",
            "style": "IPY_MODEL_e24042d60b404a7c896130acd349c41a",
            "value": 21000
          }
        },
        "6913a34a2c0241a6b02129572a44f3cd": {
          "model_module": "@jupyter-widgets/controls",
          "model_name": "HTMLModel",
          "model_module_version": "1.5.0",
          "state": {
            "_dom_classes": [],
            "_model_module": "@jupyter-widgets/controls",
            "_model_module_version": "1.5.0",
            "_model_name": "HTMLModel",
            "_view_count": null,
            "_view_module": "@jupyter-widgets/controls",
            "_view_module_version": "1.5.0",
            "_view_name": "HTMLView",
            "description": "",
            "description_tooltip": null,
            "layout": "IPY_MODEL_719f9dd19d2a4f7294c67269eb2bb0c7",
            "placeholder": "​",
            "style": "IPY_MODEL_4e816bd94503493eb525276889f369d2",
            "value": " 21000/21000 [13:15&lt;00:00, 29.54it/s]"
          }
        },
        "10390de93429433894bfa2f73173671c": {
          "model_module": "@jupyter-widgets/base",
          "model_name": "LayoutModel",
          "model_module_version": "1.2.0",
          "state": {
            "_model_module": "@jupyter-widgets/base",
            "_model_module_version": "1.2.0",
            "_model_name": "LayoutModel",
            "_view_count": null,
            "_view_module": "@jupyter-widgets/base",
            "_view_module_version": "1.2.0",
            "_view_name": "LayoutView",
            "align_content": null,
            "align_items": null,
            "align_self": null,
            "border": null,
            "bottom": null,
            "display": null,
            "flex": null,
            "flex_flow": null,
            "grid_area": null,
            "grid_auto_columns": null,
            "grid_auto_flow": null,
            "grid_auto_rows": null,
            "grid_column": null,
            "grid_gap": null,
            "grid_row": null,
            "grid_template_areas": null,
            "grid_template_columns": null,
            "grid_template_rows": null,
            "height": null,
            "justify_content": null,
            "justify_items": null,
            "left": null,
            "margin": null,
            "max_height": null,
            "max_width": null,
            "min_height": null,
            "min_width": null,
            "object_fit": null,
            "object_position": null,
            "order": null,
            "overflow": null,
            "overflow_x": null,
            "overflow_y": null,
            "padding": null,
            "right": null,
            "top": null,
            "visibility": null,
            "width": null
          }
        },
        "ae7f25b1f26042e29eb9fec2b6c0a25c": {
          "model_module": "@jupyter-widgets/base",
          "model_name": "LayoutModel",
          "model_module_version": "1.2.0",
          "state": {
            "_model_module": "@jupyter-widgets/base",
            "_model_module_version": "1.2.0",
            "_model_name": "LayoutModel",
            "_view_count": null,
            "_view_module": "@jupyter-widgets/base",
            "_view_module_version": "1.2.0",
            "_view_name": "LayoutView",
            "align_content": null,
            "align_items": null,
            "align_self": null,
            "border": null,
            "bottom": null,
            "display": null,
            "flex": null,
            "flex_flow": null,
            "grid_area": null,
            "grid_auto_columns": null,
            "grid_auto_flow": null,
            "grid_auto_rows": null,
            "grid_column": null,
            "grid_gap": null,
            "grid_row": null,
            "grid_template_areas": null,
            "grid_template_columns": null,
            "grid_template_rows": null,
            "height": null,
            "justify_content": null,
            "justify_items": null,
            "left": null,
            "margin": null,
            "max_height": null,
            "max_width": null,
            "min_height": null,
            "min_width": null,
            "object_fit": null,
            "object_position": null,
            "order": null,
            "overflow": null,
            "overflow_x": null,
            "overflow_y": null,
            "padding": null,
            "right": null,
            "top": null,
            "visibility": null,
            "width": null
          }
        },
        "5a11efc48dd249ef8264e0ee781fc3ee": {
          "model_module": "@jupyter-widgets/controls",
          "model_name": "DescriptionStyleModel",
          "model_module_version": "1.5.0",
          "state": {
            "_model_module": "@jupyter-widgets/controls",
            "_model_module_version": "1.5.0",
            "_model_name": "DescriptionStyleModel",
            "_view_count": null,
            "_view_module": "@jupyter-widgets/base",
            "_view_module_version": "1.2.0",
            "_view_name": "StyleView",
            "description_width": ""
          }
        },
        "99083073e824497fba55ca43d1ef40f0": {
          "model_module": "@jupyter-widgets/base",
          "model_name": "LayoutModel",
          "model_module_version": "1.2.0",
          "state": {
            "_model_module": "@jupyter-widgets/base",
            "_model_module_version": "1.2.0",
            "_model_name": "LayoutModel",
            "_view_count": null,
            "_view_module": "@jupyter-widgets/base",
            "_view_module_version": "1.2.0",
            "_view_name": "LayoutView",
            "align_content": null,
            "align_items": null,
            "align_self": null,
            "border": null,
            "bottom": null,
            "display": null,
            "flex": null,
            "flex_flow": null,
            "grid_area": null,
            "grid_auto_columns": null,
            "grid_auto_flow": null,
            "grid_auto_rows": null,
            "grid_column": null,
            "grid_gap": null,
            "grid_row": null,
            "grid_template_areas": null,
            "grid_template_columns": null,
            "grid_template_rows": null,
            "height": null,
            "justify_content": null,
            "justify_items": null,
            "left": null,
            "margin": null,
            "max_height": null,
            "max_width": null,
            "min_height": null,
            "min_width": null,
            "object_fit": null,
            "object_position": null,
            "order": null,
            "overflow": null,
            "overflow_x": null,
            "overflow_y": null,
            "padding": null,
            "right": null,
            "top": null,
            "visibility": null,
            "width": null
          }
        },
        "e24042d60b404a7c896130acd349c41a": {
          "model_module": "@jupyter-widgets/controls",
          "model_name": "ProgressStyleModel",
          "model_module_version": "1.5.0",
          "state": {
            "_model_module": "@jupyter-widgets/controls",
            "_model_module_version": "1.5.0",
            "_model_name": "ProgressStyleModel",
            "_view_count": null,
            "_view_module": "@jupyter-widgets/base",
            "_view_module_version": "1.2.0",
            "_view_name": "StyleView",
            "bar_color": null,
            "description_width": ""
          }
        },
        "719f9dd19d2a4f7294c67269eb2bb0c7": {
          "model_module": "@jupyter-widgets/base",
          "model_name": "LayoutModel",
          "model_module_version": "1.2.0",
          "state": {
            "_model_module": "@jupyter-widgets/base",
            "_model_module_version": "1.2.0",
            "_model_name": "LayoutModel",
            "_view_count": null,
            "_view_module": "@jupyter-widgets/base",
            "_view_module_version": "1.2.0",
            "_view_name": "LayoutView",
            "align_content": null,
            "align_items": null,
            "align_self": null,
            "border": null,
            "bottom": null,
            "display": null,
            "flex": null,
            "flex_flow": null,
            "grid_area": null,
            "grid_auto_columns": null,
            "grid_auto_flow": null,
            "grid_auto_rows": null,
            "grid_column": null,
            "grid_gap": null,
            "grid_row": null,
            "grid_template_areas": null,
            "grid_template_columns": null,
            "grid_template_rows": null,
            "height": null,
            "justify_content": null,
            "justify_items": null,
            "left": null,
            "margin": null,
            "max_height": null,
            "max_width": null,
            "min_height": null,
            "min_width": null,
            "object_fit": null,
            "object_position": null,
            "order": null,
            "overflow": null,
            "overflow_x": null,
            "overflow_y": null,
            "padding": null,
            "right": null,
            "top": null,
            "visibility": null,
            "width": null
          }
        },
        "4e816bd94503493eb525276889f369d2": {
          "model_module": "@jupyter-widgets/controls",
          "model_name": "DescriptionStyleModel",
          "model_module_version": "1.5.0",
          "state": {
            "_model_module": "@jupyter-widgets/controls",
            "_model_module_version": "1.5.0",
            "_model_name": "DescriptionStyleModel",
            "_view_count": null,
            "_view_module": "@jupyter-widgets/base",
            "_view_module_version": "1.2.0",
            "_view_name": "StyleView",
            "description_width": ""
          }
        }
      }
    }
  },
  "nbformat": 4,
  "nbformat_minor": 0
}